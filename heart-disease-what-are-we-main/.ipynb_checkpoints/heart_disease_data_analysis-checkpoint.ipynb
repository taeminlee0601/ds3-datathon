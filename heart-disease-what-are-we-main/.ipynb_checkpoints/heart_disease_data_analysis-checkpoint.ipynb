{
 "cells": [
  {
   "cell_type": "code",
   "execution_count": 200,
   "id": "0ba08834-df42-4c79-b10f-f3a8618ac9b2",
   "metadata": {},
   "outputs": [],
   "source": [
    "import pandas as pd\n",
    "from sklearn.preprocessing import OrdinalEncoder\n",
    "from sklearn.model_selection import train_test_split\n",
    "from sklearn.linear_model import LogisticRegression\n",
    "from sklearn import metrics\n",
    "from imblearn.under_sampling import RandomUnderSampler\n",
    "from imblearn.over_sampling import RandomOverSampler"
   ]
  },
  {
   "cell_type": "code",
   "execution_count": 201,
   "id": "876f57e8-c24f-4743-a1f8-802dc84d78fc",
   "metadata": {},
   "outputs": [],
   "source": [
    "col_names = ['id', 'Age', 'Sex', 'ChestPainType', 'RestingBP', 'Cholesterol', 'FastingBS', 'RestingECG',\n",
    "            'MaxHR', 'ExerciseAngina', 'Oldpeak', 'ST_Slope', 'HeartDisease']\n",
    "data = pd.read_csv(\"heart_train.csv\", header=0, skiprows=1, names=col_names, low_memory=False)"
   ]
  },
  {
   "cell_type": "code",
   "execution_count": 202,
   "id": "cf38a53b-2301-4eb3-85d0-39786851f88c",
   "metadata": {
    "scrolled": true
   },
   "outputs": [
    {
     "name": "stdout",
     "output_type": "stream",
     "text": [
      "Target value 1: 359 data points\n",
      "Target value 0: 283 data points\n",
      "Minority class: 0\n",
      "Majority class: 1\n"
     ]
    }
   ],
   "source": [
    "target_column = 'HeartDisease'\n",
    "\n",
    "# Count the occurrences of each class\n",
    "class_counts = data[target_column].value_counts()\n",
    "\n",
    "for target_value, count in class_counts.items():\n",
    "    print(f\"Target value {target_value}: {count} data points\")\n",
    "\n",
    "# Find the minority and majority classes\n",
    "minority_class = class_counts.idxmin()\n",
    "majority_class = class_counts.idxmax()\n",
    "\n",
    "print(f\"Minority class: {minority_class}\")\n",
    "print(f\"Majority class: {majority_class}\")"
   ]
  },
  {
   "cell_type": "code",
   "execution_count": 203,
   "id": "8588331f-f593-4668-b656-461dbb466022",
   "metadata": {
    "scrolled": true
   },
   "outputs": [
    {
     "data": {
      "text/html": [
       "<div>\n",
       "<style scoped>\n",
       "    .dataframe tbody tr th:only-of-type {\n",
       "        vertical-align: middle;\n",
       "    }\n",
       "\n",
       "    .dataframe tbody tr th {\n",
       "        vertical-align: top;\n",
       "    }\n",
       "\n",
       "    .dataframe thead th {\n",
       "        text-align: right;\n",
       "    }\n",
       "</style>\n",
       "<table border=\"1\" class=\"dataframe\">\n",
       "  <thead>\n",
       "    <tr style=\"text-align: right;\">\n",
       "      <th></th>\n",
       "      <th>id</th>\n",
       "      <th>Age</th>\n",
       "      <th>Sex</th>\n",
       "      <th>ChestPainType</th>\n",
       "      <th>RestingBP</th>\n",
       "      <th>Cholesterol</th>\n",
       "      <th>FastingBS</th>\n",
       "      <th>RestingECG</th>\n",
       "      <th>MaxHR</th>\n",
       "      <th>ExerciseAngina</th>\n",
       "      <th>Oldpeak</th>\n",
       "      <th>ST_Slope</th>\n",
       "      <th>HeartDisease</th>\n",
       "    </tr>\n",
       "  </thead>\n",
       "  <tbody>\n",
       "    <tr>\n",
       "      <th>1</th>\n",
       "      <td>1</td>\n",
       "      <td>49</td>\n",
       "      <td>F</td>\n",
       "      <td>NAP</td>\n",
       "      <td>160</td>\n",
       "      <td>180</td>\n",
       "      <td>0</td>\n",
       "      <td>Normal</td>\n",
       "      <td>156</td>\n",
       "      <td>N</td>\n",
       "      <td>1.0</td>\n",
       "      <td>Flat</td>\n",
       "      <td>1</td>\n",
       "    </tr>\n",
       "    <tr>\n",
       "      <th>2</th>\n",
       "      <td>2</td>\n",
       "      <td>37</td>\n",
       "      <td>M</td>\n",
       "      <td>ATA</td>\n",
       "      <td>130</td>\n",
       "      <td>283</td>\n",
       "      <td>0</td>\n",
       "      <td>ST</td>\n",
       "      <td>98</td>\n",
       "      <td>N</td>\n",
       "      <td>0.0</td>\n",
       "      <td>Up</td>\n",
       "      <td>0</td>\n",
       "    </tr>\n",
       "    <tr>\n",
       "      <th>3</th>\n",
       "      <td>3</td>\n",
       "      <td>48</td>\n",
       "      <td>F</td>\n",
       "      <td>ASY</td>\n",
       "      <td>138</td>\n",
       "      <td>214</td>\n",
       "      <td>0</td>\n",
       "      <td>Normal</td>\n",
       "      <td>108</td>\n",
       "      <td>Y</td>\n",
       "      <td>1.5</td>\n",
       "      <td>Flat</td>\n",
       "      <td>1</td>\n",
       "    </tr>\n",
       "    <tr>\n",
       "      <th>4</th>\n",
       "      <td>4</td>\n",
       "      <td>39</td>\n",
       "      <td>M</td>\n",
       "      <td>NAP</td>\n",
       "      <td>120</td>\n",
       "      <td>339</td>\n",
       "      <td>0</td>\n",
       "      <td>Normal</td>\n",
       "      <td>170</td>\n",
       "      <td>N</td>\n",
       "      <td>0.0</td>\n",
       "      <td>Up</td>\n",
       "      <td>0</td>\n",
       "    </tr>\n",
       "    <tr>\n",
       "      <th>5</th>\n",
       "      <td>5</td>\n",
       "      <td>54</td>\n",
       "      <td>M</td>\n",
       "      <td>ATA</td>\n",
       "      <td>110</td>\n",
       "      <td>208</td>\n",
       "      <td>0</td>\n",
       "      <td>Normal</td>\n",
       "      <td>142</td>\n",
       "      <td>N</td>\n",
       "      <td>0.0</td>\n",
       "      <td>Up</td>\n",
       "      <td>0</td>\n",
       "    </tr>\n",
       "  </tbody>\n",
       "</table>\n",
       "</div>"
      ],
      "text/plain": [
       "   id  Age Sex ChestPainType  RestingBP  Cholesterol  FastingBS RestingECG  \\\n",
       "1   1   49   F           NAP        160          180          0     Normal   \n",
       "2   2   37   M           ATA        130          283          0         ST   \n",
       "3   3   48   F           ASY        138          214          0     Normal   \n",
       "4   4   39   M           NAP        120          339          0     Normal   \n",
       "5   5   54   M           ATA        110          208          0     Normal   \n",
       "\n",
       "   MaxHR ExerciseAngina  Oldpeak ST_Slope  HeartDisease  \n",
       "1    156              N      1.0     Flat             1  \n",
       "2     98              N      0.0       Up             0  \n",
       "3    108              Y      1.5     Flat             1  \n",
       "4    170              N      0.0       Up             0  \n",
       "5    142              N      0.0       Up             0  "
      ]
     },
     "execution_count": 203,
     "metadata": {},
     "output_type": "execute_result"
    }
   ],
   "source": [
    "data.head()"
   ]
  },
  {
   "cell_type": "code",
   "execution_count": 204,
   "id": "095895a2-b582-4458-9986-771adeffa3c7",
   "metadata": {},
   "outputs": [],
   "source": [
    "mapping_sex = {'M': 1, 'F': 0}\n",
    "mapping_chest_pain = {'TA': 1, 'ATA': 2, 'NAP': 3, 'ASY': 4}\n",
    "mapping_resting_ecg = {'Normal': 0, 'ST': 1, 'LVH': 2}\n",
    "mapping_exercise_angina = {'Y': 1, 'N': 0}\n",
    "mapping_st_slope = {'Up': 1, 'Flat': 2, 'Down': 3}"
   ]
  },
  {
   "cell_type": "code",
   "execution_count": 205,
   "id": "e495f81b-f65d-44a2-9dc6-6e9130903acd",
   "metadata": {},
   "outputs": [],
   "source": [
    "data['Sex'] = data['Sex'].map(mapping_sex)\n",
    "data['ChestPainType'] = data['ChestPainType'].map(mapping_chest_pain)\n",
    "data['RestingECG'] = data['RestingECG'].map(mapping_resting_ecg)\n",
    "data['ExerciseAngina'] = data['ExerciseAngina'].map(mapping_exercise_angina)\n",
    "data['ST_Slope'] = data['ST_Slope'].map(mapping_st_slope)"
   ]
  },
  {
   "cell_type": "code",
   "execution_count": 206,
   "id": "89d840c6-8112-4cac-9a5f-ff13a845d109",
   "metadata": {},
   "outputs": [
    {
     "data": {
      "text/html": [
       "<div>\n",
       "<style scoped>\n",
       "    .dataframe tbody tr th:only-of-type {\n",
       "        vertical-align: middle;\n",
       "    }\n",
       "\n",
       "    .dataframe tbody tr th {\n",
       "        vertical-align: top;\n",
       "    }\n",
       "\n",
       "    .dataframe thead th {\n",
       "        text-align: right;\n",
       "    }\n",
       "</style>\n",
       "<table border=\"1\" class=\"dataframe\">\n",
       "  <thead>\n",
       "    <tr style=\"text-align: right;\">\n",
       "      <th></th>\n",
       "      <th>id</th>\n",
       "      <th>Age</th>\n",
       "      <th>Sex</th>\n",
       "      <th>ChestPainType</th>\n",
       "      <th>RestingBP</th>\n",
       "      <th>Cholesterol</th>\n",
       "      <th>FastingBS</th>\n",
       "      <th>RestingECG</th>\n",
       "      <th>MaxHR</th>\n",
       "      <th>ExerciseAngina</th>\n",
       "      <th>Oldpeak</th>\n",
       "      <th>ST_Slope</th>\n",
       "      <th>HeartDisease</th>\n",
       "    </tr>\n",
       "  </thead>\n",
       "  <tbody>\n",
       "    <tr>\n",
       "      <th>1</th>\n",
       "      <td>1</td>\n",
       "      <td>49</td>\n",
       "      <td>0</td>\n",
       "      <td>3</td>\n",
       "      <td>160</td>\n",
       "      <td>180</td>\n",
       "      <td>0</td>\n",
       "      <td>0</td>\n",
       "      <td>156</td>\n",
       "      <td>0</td>\n",
       "      <td>1.0</td>\n",
       "      <td>2</td>\n",
       "      <td>1</td>\n",
       "    </tr>\n",
       "    <tr>\n",
       "      <th>2</th>\n",
       "      <td>2</td>\n",
       "      <td>37</td>\n",
       "      <td>1</td>\n",
       "      <td>2</td>\n",
       "      <td>130</td>\n",
       "      <td>283</td>\n",
       "      <td>0</td>\n",
       "      <td>1</td>\n",
       "      <td>98</td>\n",
       "      <td>0</td>\n",
       "      <td>0.0</td>\n",
       "      <td>1</td>\n",
       "      <td>0</td>\n",
       "    </tr>\n",
       "    <tr>\n",
       "      <th>3</th>\n",
       "      <td>3</td>\n",
       "      <td>48</td>\n",
       "      <td>0</td>\n",
       "      <td>4</td>\n",
       "      <td>138</td>\n",
       "      <td>214</td>\n",
       "      <td>0</td>\n",
       "      <td>0</td>\n",
       "      <td>108</td>\n",
       "      <td>1</td>\n",
       "      <td>1.5</td>\n",
       "      <td>2</td>\n",
       "      <td>1</td>\n",
       "    </tr>\n",
       "    <tr>\n",
       "      <th>4</th>\n",
       "      <td>4</td>\n",
       "      <td>39</td>\n",
       "      <td>1</td>\n",
       "      <td>3</td>\n",
       "      <td>120</td>\n",
       "      <td>339</td>\n",
       "      <td>0</td>\n",
       "      <td>0</td>\n",
       "      <td>170</td>\n",
       "      <td>0</td>\n",
       "      <td>0.0</td>\n",
       "      <td>1</td>\n",
       "      <td>0</td>\n",
       "    </tr>\n",
       "    <tr>\n",
       "      <th>5</th>\n",
       "      <td>5</td>\n",
       "      <td>54</td>\n",
       "      <td>1</td>\n",
       "      <td>2</td>\n",
       "      <td>110</td>\n",
       "      <td>208</td>\n",
       "      <td>0</td>\n",
       "      <td>0</td>\n",
       "      <td>142</td>\n",
       "      <td>0</td>\n",
       "      <td>0.0</td>\n",
       "      <td>1</td>\n",
       "      <td>0</td>\n",
       "    </tr>\n",
       "  </tbody>\n",
       "</table>\n",
       "</div>"
      ],
      "text/plain": [
       "   id  Age  Sex  ChestPainType  RestingBP  Cholesterol  FastingBS  RestingECG  \\\n",
       "1   1   49    0              3        160          180          0           0   \n",
       "2   2   37    1              2        130          283          0           1   \n",
       "3   3   48    0              4        138          214          0           0   \n",
       "4   4   39    1              3        120          339          0           0   \n",
       "5   5   54    1              2        110          208          0           0   \n",
       "\n",
       "   MaxHR  ExerciseAngina  Oldpeak  ST_Slope  HeartDisease  \n",
       "1    156               0      1.0         2             1  \n",
       "2     98               0      0.0         1             0  \n",
       "3    108               1      1.5         2             1  \n",
       "4    170               0      0.0         1             0  \n",
       "5    142               0      0.0         1             0  "
      ]
     },
     "execution_count": 206,
     "metadata": {},
     "output_type": "execute_result"
    }
   ],
   "source": [
    "data.head()"
   ]
  },
  {
   "cell_type": "code",
   "execution_count": 207,
   "id": "a1e1d72a-902b-42d0-b38e-61a79932af45",
   "metadata": {},
   "outputs": [],
   "source": [
    "independent_vars = ['Age', 'Sex', 'ChestPainType', 'RestingBP', 'Cholesterol', 'FastingBS', 'RestingECG',\n",
    "                    'MaxHR', 'ExerciseAngina', 'Oldpeak', 'ST_Slope']\n",
    "X = data[independent_vars]\n",
    "y = data['HeartDisease']"
   ]
  },
  {
   "cell_type": "code",
   "execution_count": 208,
   "id": "94f40c3d-1c5a-437e-922e-2372b4620e09",
   "metadata": {},
   "outputs": [],
   "source": [
    "X_train, X_test, y_train, y_test = train_test_split(X, y, test_size=0.4, random_state=16)"
   ]
  },
  {
   "cell_type": "code",
   "execution_count": 209,
   "id": "61d6e612-4295-4635-94e2-ffb3faaae7b8",
   "metadata": {},
   "outputs": [],
   "source": [
    "ros = RandomUnderSampler(random_state=42)\n",
    "X_resampled, y_resampled = ros.fit_resample(X_train, y_train)"
   ]
  },
  {
   "cell_type": "code",
   "execution_count": 210,
   "id": "9e6b68d7-b75c-465a-bda9-821268496884",
   "metadata": {},
   "outputs": [],
   "source": [
    "X_train, X_test, y_train, y_test = train_test_split(X_resampled, y_resampled, test_size=0.5, random_state=16)"
   ]
  },
  {
   "cell_type": "code",
   "execution_count": 211,
   "id": "5580121d-b152-472f-b574-aab1d01f1830",
   "metadata": {},
   "outputs": [],
   "source": [
    "logreg = LogisticRegression(max_iter=10000)\n",
    "logreg.fit(X_train, y_train)\n",
    "y_pred = logreg.predict(X_test)"
   ]
  },
  {
   "cell_type": "code",
   "execution_count": 212,
   "id": "df37a3c2-1164-469b-aa5d-ce29a35d6882",
   "metadata": {},
   "outputs": [
    {
     "name": "stdout",
     "output_type": "stream",
     "text": [
      "Accuracy: 0.8623188405797102\n"
     ]
    }
   ],
   "source": [
    "print(\"Accuracy:\", metrics.accuracy_score(y_test, y_pred))"
   ]
  },
  {
   "cell_type": "code",
   "execution_count": 213,
   "id": "58f0e25d-3068-4ca3-b9a9-b6cefd9c5ff2",
   "metadata": {},
   "outputs": [],
   "source": [
    "data2 = pd.read_csv(\"heart_test.csv\", header=0, names=col_names[:-1], low_memory=False)"
   ]
  },
  {
   "cell_type": "code",
   "execution_count": 214,
   "id": "c8f88793-d9c8-45e2-b128-1dd7c0c96aae",
   "metadata": {},
   "outputs": [],
   "source": [
    "data2['Sex'] = data2['Sex'].map(mapping_sex)\n",
    "data2['ChestPainType'] = data2['ChestPainType'].map(mapping_chest_pain)\n",
    "data2['RestingECG'] = data2['RestingECG'].map(mapping_resting_ecg)\n",
    "data2['ExerciseAngina'] = data2['ExerciseAngina'].map(mapping_exercise_angina)\n",
    "data2['ST_Slope'] = data2['ST_Slope'].map(mapping_st_slope)"
   ]
  },
  {
   "cell_type": "code",
   "execution_count": 215,
   "id": "13ad3ef1-3a18-439b-8f64-f524a0280575",
   "metadata": {},
   "outputs": [],
   "source": [
    "X_test_2 = data2[independent_vars]\n",
    "X_id = data2['id']"
   ]
  },
  {
   "cell_type": "code",
   "execution_count": 216,
   "id": "c867e3ec-f060-4057-8518-c094211bdd19",
   "metadata": {},
   "outputs": [],
   "source": [
    "logreg2 = LogisticRegression(max_iter=10000)\n",
    "logreg2 = logreg.fit(X_train, y_train)\n",
    "y_pred_2 = logreg.predict(X_test_2)"
   ]
  },
  {
   "cell_type": "code",
   "execution_count": 217,
   "id": "721d8911-6d97-45f2-9e19-36987cf9ccdd",
   "metadata": {},
   "outputs": [],
   "source": [
    "predictions_df = pd.DataFrame({'id': X_id, 'output': y_pred_2})"
   ]
  },
  {
   "cell_type": "code",
   "execution_count": 218,
   "id": "e4ce3094-addf-4703-a781-b221883bcc5c",
   "metadata": {},
   "outputs": [],
   "source": [
    "predictions_df.to_csv('predictions.csv', index=False)"
   ]
  }
 ],
 "metadata": {
  "kernelspec": {
   "display_name": "Python 3 (ipykernel)",
   "language": "python",
   "name": "python3"
  },
  "language_info": {
   "codemirror_mode": {
    "name": "ipython",
    "version": 3
   },
   "file_extension": ".py",
   "mimetype": "text/x-python",
   "name": "python",
   "nbconvert_exporter": "python",
   "pygments_lexer": "ipython3",
   "version": "3.11.5"
  }
 },
 "nbformat": 4,
 "nbformat_minor": 5
}
